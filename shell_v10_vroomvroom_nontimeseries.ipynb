{
  "nbformat": 4,
  "nbformat_minor": 0,
  "metadata": {
    "accelerator": "GPU",
    "colab": {
      "name": "shell_v10_vroomvroom_nontimeseries.ipynb",
      "provenance": [],
      "collapsed_sections": [
        "Er2pdLeoJ9N8"
      ]
    },
    "kernelspec": {
      "display_name": "Python 3",
      "name": "python3"
    },
    "language_info": {
      "name": "python"
    }
  },
  "cells": [
    {
      "cell_type": "code",
      "metadata": {
        "id": "-TyKkpshxcZU"
      },
      "source": [
        "import numpy as np\n",
        "import pandas as pd\n",
        "import matplotlib.pyplot as plt\n",
        "import seaborn as sns\n",
        "\n",
        "from sklearn.linear_model import LinearRegression\n",
        "from sklearn.tree import DecisionTreeRegressor\n",
        "from sklearn.ensemble import RandomForestRegressor\n",
        "from sklearn import svm\n",
        "from sklearn.metrics import mean_absolute_error \n",
        "from sklearn.preprocessing import MinMaxScaler\n",
        "\n",
        "from tqdm import tqdm\n",
        "import pickle"
      ],
      "execution_count": null,
      "outputs": []
    },
    {
      "cell_type": "code",
      "metadata": {
        "colab": {
          "base_uri": "https://localhost:8080/"
        },
        "id": "FVBGECiMyD-s",
        "outputId": "900e6d38-e94a-451e-fb6e-663146260e8f"
      },
      "source": [
        "from google.colab import drive\n",
        "drive.mount('/content/drive')\n",
        "data = pd.read_csv(\"/content/drive/My Drive/shell_dataset/train/train/train.csv\")\n",
        "data.drop(columns=['DATE (MM/DD)'],inplace=True)"
      ],
      "execution_count": null,
      "outputs": [
        {
          "output_type": "stream",
          "name": "stdout",
          "text": [
            "Drive already mounted at /content/drive; to attempt to forcibly remount, call drive.mount(\"/content/drive\", force_remount=True).\n"
          ]
        }
      ]
    },
    {
      "cell_type": "markdown",
      "metadata": {
        "id": "BlUSvhe5wOpx"
      },
      "source": [
        "# preprocess"
      ]
    },
    {
      "cell_type": "code",
      "metadata": {
        "id": "foMZiNrKHcq4"
      },
      "source": [
        "def for_minus(data,remove_min1=True):\n",
        "  df=data.copy()\n",
        "  cols = ['time', 'global_cmp22', 'direct_snip', 'azimuth', 'dry_bulb', 'wet_bulb', 'dew_point', 'rh', 'cloud_cover',\n",
        "        'peak_wind_speed', 'avg_wind_direction', 'station_pressure', 'accum_precipitation', 'snow_depth', 'moisture', 'albedo']\n",
        "  \n",
        "  df.columns = cols\n",
        "  if remove_min1==True:\n",
        "    df.reset_index(inplace=True)\n",
        "\n",
        "  for i in range(len(df['cloud_cover'])):\n",
        "    s=1\n",
        "    if df['cloud_cover'][i]<0:\n",
        "      nilai2=df['cloud_cover'][i+s]\n",
        "      while nilai2<0:\n",
        "        try:\n",
        "          nilai2=df['cloud_cover'][i+s]\n",
        "          s+=1\n",
        "        except:\n",
        "          nilai2=df['cloud_cover'][i-1]\n",
        "      try:\n",
        "       df['cloud_cover'][i]=(df['cloud_cover'][i-1]+nilai2)/2\n",
        "      except:\n",
        "        j=1\n",
        "        while df['cloud_cover'][i+j] < 0:\n",
        "          j+=1\n",
        "        df['cloud_cover'][i]=df['cloud_cover'][i+j]\n",
        "    return df   "
      ],
      "execution_count": null,
      "outputs": []
    },
    {
      "cell_type": "code",
      "metadata": {
        "id": "omxZJQDxfdRv"
      },
      "source": [
        "def shift_feat(data,periods):\n",
        "  df=data.copy()\n",
        "  feats=list(df.columns)\n",
        "  for col in ['date', 'time','index']:\n",
        "    try:\n",
        "      feats.remove(col)\n",
        "    except: \n",
        "      pass\n",
        "\n",
        "  for feat in feats:\n",
        "    for num in range(int(periods/back),int(periods+1),int(periods/back)):\n",
        "      df[feat+str(num)]=df[feat].shift(periods=num)\n",
        "  try:\n",
        "    df[~df['azimuth'+str(num)].isnull()]\n",
        "  except:\n",
        "    pass\n",
        "  return df"
      ],
      "execution_count": null,
      "outputs": []
    },
    {
      "cell_type": "code",
      "metadata": {
        "id": "dZjQsxVXf-e5"
      },
      "source": [
        "def resample_mean(df, freq):\n",
        "  return df.groupby(np.arange(len(df))//freq).mean()"
      ],
      "execution_count": null,
      "outputs": []
    },
    {
      "cell_type": "markdown",
      "metadata": {
        "id": "YcgrRXtKjQxQ"
      },
      "source": [
        "# Training"
      ]
    },
    {
      "cell_type": "markdown",
      "metadata": {
        "id": "2kZWsF9L7uQ-"
      },
      "source": [
        "data"
      ]
    },
    {
      "cell_type": "code",
      "metadata": {
        "colab": {
          "base_uri": "https://localhost:8080/",
          "height": 455
        },
        "id": "WUPvE6oU7vPl",
        "outputId": "1cbce3d9-cd2f-465b-ff26-3278c9df91db"
      },
      "source": [
        "data"
      ],
      "execution_count": null,
      "outputs": [
        {
          "output_type": "execute_result",
          "data": {
            "text/html": [
              "<div>\n",
              "<style scoped>\n",
              "    .dataframe tbody tr th:only-of-type {\n",
              "        vertical-align: middle;\n",
              "    }\n",
              "\n",
              "    .dataframe tbody tr th {\n",
              "        vertical-align: top;\n",
              "    }\n",
              "\n",
              "    .dataframe thead th {\n",
              "        text-align: right;\n",
              "    }\n",
              "</style>\n",
              "<table border=\"1\" class=\"dataframe\">\n",
              "  <thead>\n",
              "    <tr style=\"text-align: right;\">\n",
              "      <th></th>\n",
              "      <th>MST</th>\n",
              "      <th>Global CMP22 (vent/cor) [W/m^2]</th>\n",
              "      <th>Direct sNIP [W/m^2]</th>\n",
              "      <th>Azimuth Angle [degrees]</th>\n",
              "      <th>Tower Dry Bulb Temp [deg C]</th>\n",
              "      <th>Tower Wet Bulb Temp [deg C]</th>\n",
              "      <th>Tower Dew Point Temp [deg C]</th>\n",
              "      <th>Tower RH [%]</th>\n",
              "      <th>Total Cloud Cover [%]</th>\n",
              "      <th>Peak Wind Speed @ 6ft [m/s]</th>\n",
              "      <th>Avg Wind Direction @ 6ft [deg from N]</th>\n",
              "      <th>Station Pressure [mBar]</th>\n",
              "      <th>Precipitation (Accumulated) [mm]</th>\n",
              "      <th>Snow Depth [cm]</th>\n",
              "      <th>Moisture</th>\n",
              "      <th>Albedo (CMP11)</th>\n",
              "    </tr>\n",
              "  </thead>\n",
              "  <tbody>\n",
              "    <tr>\n",
              "      <th>0</th>\n",
              "      <td>00:00</td>\n",
              "      <td>-0.962276</td>\n",
              "      <td>0.000000</td>\n",
              "      <td>356.85640</td>\n",
              "      <td>7.216</td>\n",
              "      <td>0.988</td>\n",
              "      <td>-7.312</td>\n",
              "      <td>32.33</td>\n",
              "      <td>-1</td>\n",
              "      <td>9.95</td>\n",
              "      <td>271.3</td>\n",
              "      <td>806.779</td>\n",
              "      <td>0.0</td>\n",
              "      <td>0.219</td>\n",
              "      <td>0.0</td>\n",
              "      <td>0.0</td>\n",
              "    </tr>\n",
              "    <tr>\n",
              "      <th>1</th>\n",
              "      <td>00:01</td>\n",
              "      <td>-0.937921</td>\n",
              "      <td>0.000000</td>\n",
              "      <td>357.65505</td>\n",
              "      <td>7.251</td>\n",
              "      <td>1.040</td>\n",
              "      <td>-7.260</td>\n",
              "      <td>32.40</td>\n",
              "      <td>-1</td>\n",
              "      <td>8.20</td>\n",
              "      <td>272.9</td>\n",
              "      <td>806.840</td>\n",
              "      <td>0.0</td>\n",
              "      <td>0.206</td>\n",
              "      <td>0.0</td>\n",
              "      <td>0.0</td>\n",
              "    </tr>\n",
              "    <tr>\n",
              "      <th>2</th>\n",
              "      <td>00:02</td>\n",
              "      <td>-0.944395</td>\n",
              "      <td>0.000000</td>\n",
              "      <td>358.45438</td>\n",
              "      <td>7.256</td>\n",
              "      <td>1.093</td>\n",
              "      <td>-7.207</td>\n",
              "      <td>32.54</td>\n",
              "      <td>-1</td>\n",
              "      <td>6.70</td>\n",
              "      <td>288.8</td>\n",
              "      <td>806.876</td>\n",
              "      <td>0.0</td>\n",
              "      <td>0.148</td>\n",
              "      <td>0.0</td>\n",
              "      <td>0.0</td>\n",
              "    </tr>\n",
              "    <tr>\n",
              "      <th>3</th>\n",
              "      <td>00:03</td>\n",
              "      <td>-0.951350</td>\n",
              "      <td>-0.029673</td>\n",
              "      <td>359.25416</td>\n",
              "      <td>7.254</td>\n",
              "      <td>1.060</td>\n",
              "      <td>-7.440</td>\n",
              "      <td>31.89</td>\n",
              "      <td>-1</td>\n",
              "      <td>7.70</td>\n",
              "      <td>294.0</td>\n",
              "      <td>806.823</td>\n",
              "      <td>0.0</td>\n",
              "      <td>0.235</td>\n",
              "      <td>0.0</td>\n",
              "      <td>0.0</td>\n",
              "    </tr>\n",
              "    <tr>\n",
              "      <th>4</th>\n",
              "      <td>00:04</td>\n",
              "      <td>-0.934976</td>\n",
              "      <td>-0.054401</td>\n",
              "      <td>0.05415</td>\n",
              "      <td>7.331</td>\n",
              "      <td>1.081</td>\n",
              "      <td>-7.419</td>\n",
              "      <td>31.78</td>\n",
              "      <td>-1</td>\n",
              "      <td>7.20</td>\n",
              "      <td>285.5</td>\n",
              "      <td>806.762</td>\n",
              "      <td>0.0</td>\n",
              "      <td>0.182</td>\n",
              "      <td>0.0</td>\n",
              "      <td>0.0</td>\n",
              "    </tr>\n",
              "    <tr>\n",
              "      <th>...</th>\n",
              "      <td>...</td>\n",
              "      <td>...</td>\n",
              "      <td>...</td>\n",
              "      <td>...</td>\n",
              "      <td>...</td>\n",
              "      <td>...</td>\n",
              "      <td>...</td>\n",
              "      <td>...</td>\n",
              "      <td>...</td>\n",
              "      <td>...</td>\n",
              "      <td>...</td>\n",
              "      <td>...</td>\n",
              "      <td>...</td>\n",
              "      <td>...</td>\n",
              "      <td>...</td>\n",
              "      <td>...</td>\n",
              "    </tr>\n",
              "    <tr>\n",
              "      <th>527035</th>\n",
              "      <td>23:55</td>\n",
              "      <td>-1.360910</td>\n",
              "      <td>-0.340704</td>\n",
              "      <td>352.62902</td>\n",
              "      <td>-0.469</td>\n",
              "      <td>-3.940</td>\n",
              "      <td>-10.140</td>\n",
              "      <td>43.61</td>\n",
              "      <td>-1</td>\n",
              "      <td>0.00</td>\n",
              "      <td>0.0</td>\n",
              "      <td>816.186</td>\n",
              "      <td>0.0</td>\n",
              "      <td>2.899</td>\n",
              "      <td>0.0</td>\n",
              "      <td>0.0</td>\n",
              "    </tr>\n",
              "    <tr>\n",
              "      <th>527036</th>\n",
              "      <td>23:56</td>\n",
              "      <td>-1.342520</td>\n",
              "      <td>-0.325891</td>\n",
              "      <td>353.41779</td>\n",
              "      <td>-0.499</td>\n",
              "      <td>-3.927</td>\n",
              "      <td>-10.127</td>\n",
              "      <td>43.77</td>\n",
              "      <td>-1</td>\n",
              "      <td>0.00</td>\n",
              "      <td>0.0</td>\n",
              "      <td>816.185</td>\n",
              "      <td>0.0</td>\n",
              "      <td>2.866</td>\n",
              "      <td>0.0</td>\n",
              "      <td>0.0</td>\n",
              "    </tr>\n",
              "    <tr>\n",
              "      <th>527037</th>\n",
              "      <td>23:57</td>\n",
              "      <td>-1.341260</td>\n",
              "      <td>-0.320952</td>\n",
              "      <td>354.20842</td>\n",
              "      <td>-0.522</td>\n",
              "      <td>-3.958</td>\n",
              "      <td>-10.158</td>\n",
              "      <td>43.73</td>\n",
              "      <td>-1</td>\n",
              "      <td>0.00</td>\n",
              "      <td>0.0</td>\n",
              "      <td>816.198</td>\n",
              "      <td>0.0</td>\n",
              "      <td>2.882</td>\n",
              "      <td>0.0</td>\n",
              "      <td>0.0</td>\n",
              "    </tr>\n",
              "    <tr>\n",
              "      <th>527038</th>\n",
              "      <td>23:58</td>\n",
              "      <td>-1.334130</td>\n",
              "      <td>-0.320953</td>\n",
              "      <td>355.00071</td>\n",
              "      <td>-0.558</td>\n",
              "      <td>-3.979</td>\n",
              "      <td>-10.079</td>\n",
              "      <td>44.17</td>\n",
              "      <td>-1</td>\n",
              "      <td>0.00</td>\n",
              "      <td>0.0</td>\n",
              "      <td>816.194</td>\n",
              "      <td>0.0</td>\n",
              "      <td>2.805</td>\n",
              "      <td>0.0</td>\n",
              "      <td>0.0</td>\n",
              "    </tr>\n",
              "    <tr>\n",
              "      <th>527039</th>\n",
              "      <td>23:59</td>\n",
              "      <td>-1.349430</td>\n",
              "      <td>-0.301202</td>\n",
              "      <td>355.79443</td>\n",
              "      <td>-0.622</td>\n",
              "      <td>-3.973</td>\n",
              "      <td>-10.073</td>\n",
              "      <td>44.43</td>\n",
              "      <td>-1</td>\n",
              "      <td>0.00</td>\n",
              "      <td>0.0</td>\n",
              "      <td>816.180</td>\n",
              "      <td>0.0</td>\n",
              "      <td>2.855</td>\n",
              "      <td>0.0</td>\n",
              "      <td>0.0</td>\n",
              "    </tr>\n",
              "  </tbody>\n",
              "</table>\n",
              "<p>527040 rows × 16 columns</p>\n",
              "</div>"
            ],
            "text/plain": [
              "          MST  Global CMP22 (vent/cor) [W/m^2]  ...  Moisture  Albedo (CMP11)\n",
              "0       00:00                        -0.962276  ...       0.0             0.0\n",
              "1       00:01                        -0.937921  ...       0.0             0.0\n",
              "2       00:02                        -0.944395  ...       0.0             0.0\n",
              "3       00:03                        -0.951350  ...       0.0             0.0\n",
              "4       00:04                        -0.934976  ...       0.0             0.0\n",
              "...       ...                              ...  ...       ...             ...\n",
              "527035  23:55                        -1.360910  ...       0.0             0.0\n",
              "527036  23:56                        -1.342520  ...       0.0             0.0\n",
              "527037  23:57                        -1.341260  ...       0.0             0.0\n",
              "527038  23:58                        -1.334130  ...       0.0             0.0\n",
              "527039  23:59                        -1.349430  ...       0.0             0.0\n",
              "\n",
              "[527040 rows x 16 columns]"
            ]
          },
          "metadata": {},
          "execution_count": 6
        }
      ]
    },
    {
      "cell_type": "code",
      "metadata": {
        "colab": {
          "base_uri": "https://localhost:8080/"
        },
        "id": "33HfONfOje3w",
        "outputId": "ecfe17f2-b844-4a95-fd82-16ccfc881e26"
      },
      "source": [
        "data=for_minus(data,remove_min1=True)\n",
        "\n",
        "# features = data.columns.tolist()\n",
        "# for col in ['level_0','date', 'time', 'cloud_cover','index']:\n",
        "#   try:\n",
        "#     features.remove(col)\n",
        "#   except:\n",
        "#     pass\n",
        "  # params to pay attention to\n",
        "back = 3\n",
        "interval_shift = 10\n",
        "freq = 20\n",
        "\n",
        "models = []\n",
        "\n",
        "sampled_data = resample_mean(data,freq)"
      ],
      "execution_count": null,
      "outputs": [
        {
          "output_type": "stream",
          "name": "stderr",
          "text": [
            "/usr/local/lib/python3.7/dist-packages/ipykernel_launcher.py:26: SettingWithCopyWarning: \n",
            "A value is trying to be set on a copy of a slice from a DataFrame\n",
            "\n",
            "See the caveats in the documentation: https://pandas.pydata.org/pandas-docs/stable/user_guide/indexing.html#returning-a-view-versus-a-copy\n"
          ]
        }
      ]
    },
    {
      "cell_type": "code",
      "metadata": {
        "id": "k4IgCSwMiskU"
      },
      "source": [
        "# filename = f'{folder_path}/model_{horizon}_back{back}_freq{freq}_intshiftnyasetengahhorizon.sav'\n",
        "# pickle.dump(model, open(filename, 'wb'))\n",
        "# models.append(model)"
      ],
      "execution_count": null,
      "outputs": []
    },
    {
      "cell_type": "code",
      "metadata": {
        "id": "P8AOluhO6R1a"
      },
      "source": [
        "folder_path=('/content/drive/MyDrive/alexandra_Shell.ai')\n",
        "\n",
        "horizons=[30,60,90,120]\n",
        "models=[]\n",
        "\n",
        "for horizon in horizons:\n",
        "  all_training_data=shift_feat(sampled_data,back*horizon/2)\n",
        "  all_training_data=all_training_data[all_training_data['cloud_cover']!=-1] \n",
        "  all_training_data=all_training_data[all_training_data[f'cloud_cover{horizon}']!=-1] \n",
        "  all_training_data=all_training_data.dropna()\n",
        "\n",
        "  features_to_train = all_training_data.columns.tolist()\n",
        "  for col in ['level_0','date', 'time','index']:\n",
        "    try:\n",
        "      features_to_train.remove(col)\n",
        "    except:\n",
        "      pass\n",
        "\n",
        "  all_training_data['target'] = all_training_data['cloud_cover'].shift(int(-horizon/freq))\n",
        "  all_training_data = all_training_data.dropna()\n",
        "\n",
        "  model = svm.SVR()\n",
        "\n",
        "  for col in ['level_0','date', 'time','index','target']:\n",
        "    try:\n",
        "      features_to_train.remove(col)\n",
        "    except:\n",
        "      pass\n",
        "  model.fit(all_training_data[features_to_train], all_training_data['target'])\n",
        "\n",
        "  filename = f'{folder_path}/baru_model_{horizon}_back{back}_freq{freq}.sav'\n",
        "  pickle.dump(model, open(filename, 'wb'))\n",
        "  models.append(model)"
      ],
      "execution_count": null,
      "outputs": []
    },
    {
      "cell_type": "code",
      "metadata": {
        "colab": {
          "base_uri": "https://localhost:8080/"
        },
        "id": "nV7v4yRc9A1G",
        "outputId": "8df769c4-d86f-4bae-b5ae-5fc77e07521a"
      },
      "source": [
        "models"
      ],
      "execution_count": null,
      "outputs": [
        {
          "output_type": "execute_result",
          "data": {
            "text/plain": [
              "[]"
            ]
          },
          "metadata": {},
          "execution_count": 11
        }
      ]
    },
    {
      "cell_type": "markdown",
      "metadata": {
        "id": "FHxODDyK-4Dv"
      },
      "source": [
        "# save and load models"
      ]
    },
    {
      "cell_type": "code",
      "metadata": {
        "id": "-_6mVkSlPQ69"
      },
      "source": [
        "# load\n",
        "import pickle\n",
        "folder_path=('/content/drive/MyDrive/alexandra_Shell.ai')\n",
        "\n",
        "loaded_models=[]\n",
        "for i in horizons:\n",
        "  filename = f'{folder_path}/baru_model_{horizon}_back{back}_freq{freq}.sav'\n",
        "  loaded_model = pickle.load(open(filename, 'rb'))\n",
        "  loaded_models.append(loaded_model)"
      ],
      "execution_count": null,
      "outputs": []
    },
    {
      "cell_type": "markdown",
      "metadata": {
        "id": "mJ0dSRkN_lSt"
      },
      "source": [
        "*models* for the models trained during the sessions, *loaded_models* for... \n",
        "loaded models"
      ]
    },
    {
      "cell_type": "code",
      "metadata": {
        "id": "J0lLnPkkPSjM",
        "colab": {
          "base_uri": "https://localhost:8080/"
        },
        "outputId": "04c012b0-3228-4632-b39c-5d0fbcff5ea2"
      },
      "source": [
        "# models=loaded_models"
      ],
      "execution_count": null,
      "outputs": [
        {
          "output_type": "execute_result",
          "data": {
            "text/plain": [
              "[SVR(C=1.0, cache_size=200, coef0=0.0, degree=3, epsilon=0.1, gamma='scale',\n",
              "     kernel='rbf', max_iter=-1, shrinking=True, tol=0.001, verbose=False),\n",
              " SVR(C=1.0, cache_size=200, coef0=0.0, degree=3, epsilon=0.1, gamma='scale',\n",
              "     kernel='rbf', max_iter=-1, shrinking=True, tol=0.001, verbose=False),\n",
              " SVR(C=1.0, cache_size=200, coef0=0.0, degree=3, epsilon=0.1, gamma='scale',\n",
              "     kernel='rbf', max_iter=-1, shrinking=True, tol=0.001, verbose=False),\n",
              " SVR(C=1.0, cache_size=200, coef0=0.0, degree=3, epsilon=0.1, gamma='scale',\n",
              "     kernel='rbf', max_iter=-1, shrinking=True, tol=0.001, verbose=False)]"
            ]
          },
          "metadata": {},
          "execution_count": 17
        }
      ]
    },
    {
      "cell_type": "markdown",
      "metadata": {
        "id": "vNIHYfPfkqj4"
      },
      "source": [
        "# Predict"
      ]
    },
    {
      "cell_type": "code",
      "metadata": {
        "id": "M6Ehl7JKkidA"
      },
      "source": [
        "t=dict(zip(range(30,121,30), [[]]*4))\n",
        "folders = [i+1 for i in range(300)]\n",
        "\n",
        "for i in tqdm(folders):\n",
        "  dat=pd.read_csv(f\"/content/drive/My Drive/shell_dataset/test/test/{i}/weather_data.csv\")\n",
        "  dat=for_minus(dat,remove_min1=True)\n",
        "\n",
        "  for horizon in [30, 60, 90, 120]:\n",
        "    test_data = resample_mean(dat,freq = freq)\n",
        "    test_data=shift_feat(test_data,back*interval_shift)\n",
        "    test_data = test_data.tail(1)\n",
        "    test_data = test_data[features_to_train]\n",
        "\n",
        "    feats=test_data.columns.tolist()\n",
        "    for col in ['level_0','date', 'time', 'cloud_cover','index','cloud_cover1','cloud_cover2','cloud_cover3']:\n",
        "      try:\n",
        "        feats.remove(col)\n",
        "      except:\n",
        "        pass\n",
        "\n",
        "    for f in feats: #not including cloud cover\n",
        "      s_s = scalers['scaler_'+ f].transform(test_data[f].values.reshape(-1,1))\n",
        "      s_s=np.reshape(s_s,len(s_s))\n",
        "      test_data[f]=s_s\n",
        "    \n",
        "    t[horizon].append(models[horizon/30-1].predict(test_data)[0])"
      ],
      "execution_count": null,
      "outputs": []
    },
    {
      "cell_type": "code",
      "metadata": {
        "id": "Fi_RonIcmDID"
      },
      "source": [
        "result = pd.DataFrame({\n",
        "    'scenario_set': [i+1 for i in range(300)],\n",
        "    '30_min_horizon': t[30],\n",
        "    '60_min_horizon': t[60],\n",
        "    '90_min_horizon': t[90],\n",
        "    '120_min_horizon': t[120],\n",
        "})\n",
        "\n",
        "result = result.set_index('scenario_set')"
      ],
      "execution_count": null,
      "outputs": []
    },
    {
      "cell_type": "code",
      "metadata": {
        "id": "5QC8nF2dXXiM"
      },
      "source": [
        "result.to_csv(folder_path+f'/scaled_back{back}_freq{freq}_int{interval_shift}.csv')"
      ],
      "execution_count": null,
      "outputs": []
    },
    {
      "cell_type": "markdown",
      "metadata": {
        "id": "4CgC80k93jUJ"
      },
      "source": [
        "selesai"
      ]
    },
    {
      "cell_type": "code",
      "metadata": {
        "id": "wbzZjNZ5o7ZK"
      },
      "source": [
        "\n"
      ],
      "execution_count": null,
      "outputs": []
    },
    {
      "cell_type": "code",
      "metadata": {
        "id": "PZvB3ELfpcI3"
      },
      "source": [
        "\n",
        "\n",
        "\n",
        "  linear = LinearRegression()\n",
        "  tree = DecisionTreeRegressor()\n",
        "  forest = RandomForestRegressor()\n",
        "  svr = svm.SVR()"
      ],
      "execution_count": null,
      "outputs": []
    },
    {
      "cell_type": "code",
      "metadata": {
        "id": "-b38-2IP8JE9"
      },
      "source": [
        "result.to_csv('./svr_back6_freq30_BENER.csv',)"
      ],
      "execution_count": null,
      "outputs": []
    },
    {
      "cell_type": "code",
      "metadata": {
        "id": "rhOh9Kud8MTk"
      },
      "source": [
        ""
      ],
      "execution_count": null,
      "outputs": []
    }
  ]
}